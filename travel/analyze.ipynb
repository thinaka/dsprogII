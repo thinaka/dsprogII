{
 "cells": [
  {
   "cell_type": "code",
   "execution_count": 46,
   "metadata": {},
   "outputs": [],
   "source": [
    "import pandas as pd\n",
    "import sqlite3"
   ]
  },
  {
   "cell_type": "markdown",
   "metadata": {},
   "source": [
    "###   データの読み込み"
   ]
  },
  {
   "cell_type": "code",
   "execution_count": 47,
   "metadata": {},
   "outputs": [
    {
     "name": "stdout",
     "output_type": "stream",
     "text": [
      "All Amenities Data:\n",
      "   id hotel_name  hand_towel  bodysoap  hairdryer  washlet  toothbrush  soap  \\\n",
      "0   1        旅館A           1         1          1        1           0     0   \n",
      "1   2       ホテルB           1         1          1        1           1     0   \n",
      "2   3       ホテルC           1         1          1        1           1     1   \n",
      "\n",
      "   down_duvet  comb_brush  bath_towel  yukata  razor  shampoo  pajamas  \\\n",
      "0           1           0           1       0      0        1        1   \n",
      "1           1           0           1       1      0        1        0   \n",
      "2           0           1           1       1      1        1        0   \n",
      "\n",
      "   shower_cap  rinse  bathrobe  cotton_swab  \n",
      "0           0      1         0            0  \n",
      "1           0      1         0            0  \n",
      "2           0      1         0            1  \n",
      "All Reviews Data:\n",
      "    rating gender hotel_name\n",
      "0        5     男性        旅館A\n",
      "1        4     男性        旅館A\n",
      "2        5     男性        旅館A\n",
      "3        5     女性        旅館A\n",
      "4        5     女性        旅館A\n",
      "..     ...    ...        ...\n",
      "362      2     女性       ホテルC\n",
      "363      3     男性       ホテルC\n",
      "364      3     男性       ホテルC\n",
      "365      1     女性       ホテルC\n",
      "366      3     女性       ホテルC\n",
      "\n",
      "[367 rows x 3 columns]\n"
     ]
    }
   ],
   "source": [
    "class Database:\n",
    "    def __init__(self, amenities_db_path, review_db_path):\n",
    "        self.amenities_conn = sqlite3.connect(amenities_db_path)\n",
    "        self.review_conn = sqlite3.connect(review_db_path)\n",
    "    \n",
    "    def get_all_amenities(self):\n",
    "        query = \"\"\"\n",
    "        SELECT *\n",
    "        FROM amenities\n",
    "        \"\"\"\n",
    "        return pd.read_sql_query(query, self.amenities_conn)\n",
    "    \n",
    "    def get_all_reviews(self):\n",
    "        query = \"\"\"\n",
    "        SELECT rating, gender, hotel_name\n",
    "        FROM review\n",
    "        \"\"\"\n",
    "        return pd.read_sql_query(query, self.review_conn)\n",
    "\n",
    "# 使用例\n",
    "db = Database('/Users/gomadango/Lecture/dsprog/dsprog2/travel/amenities.sqlite', '/Users/gomadango/Lecture/dsprog/dsprog2/travel/review.sqlite')\n",
    "\n",
    "# すべてのホテルのデータの読み込み\n",
    "all_amenities_data = db.get_all_amenities()\n",
    "all_reviews_data = db.get_all_reviews()\n",
    "\n",
    "print(\"All Amenities Data:\")\n",
    "print(all_amenities_data)\n",
    "\n",
    "print(\"All Reviews Data:\")\n",
    "print(all_reviews_data)"
   ]
  },
  {
   "cell_type": "code",
   "execution_count": 48,
   "metadata": {},
   "outputs": [
    {
     "name": "stdout",
     "output_type": "stream",
     "text": [
      "Amenities Data Type:\n",
      "id              int64\n",
      "hotel_name     object\n",
      "hand_towel      int64\n",
      "bodysoap        int64\n",
      "hairdryer       int64\n",
      "washlet         int64\n",
      "toothbrush      int64\n",
      "soap            int64\n",
      "down_duvet      int64\n",
      "comb_brush      int64\n",
      "bath_towel      int64\n",
      "yukata          int64\n",
      "razor           int64\n",
      "shampoo         int64\n",
      "pajamas         int64\n",
      "shower_cap      int64\n",
      "rinse           int64\n",
      "bathrobe        int64\n",
      "cotton_swab     int64\n",
      "dtype: object\n",
      "Reviews Data Type:\n",
      "rating        object\n",
      "gender        object\n",
      "hotel_name    object\n",
      "dtype: object\n"
     ]
    }
   ],
   "source": [
    "# テータ型の確認\n",
    "print(\"Amenities Data Type:\")\n",
    "print(all_amenities_data.dtypes)\n",
    "print(\"Reviews Data Type:\")\n",
    "print(all_reviews_data.dtypes)"
   ]
  },
  {
   "cell_type": "code",
   "execution_count": 49,
   "metadata": {},
   "outputs": [],
   "source": [
    "# reviewのratingのデータ型をintに変換\n",
    "all_reviews_data['rating'] = all_reviews_data['rating'].astype(int)"
   ]
  },
  {
   "cell_type": "code",
   "execution_count": 50,
   "metadata": {},
   "outputs": [
    {
     "name": "stdout",
     "output_type": "stream",
     "text": [
      "Reviews Data Type:\n",
      "rating         int64\n",
      "gender        object\n",
      "hotel_name    object\n",
      "dtype: object\n"
     ]
    }
   ],
   "source": [
    "# テータ型の再確認\n",
    "print(\"Reviews Data Type:\")\n",
    "print(all_reviews_data.dtypes)"
   ]
  },
  {
   "cell_type": "markdown",
   "metadata": {},
   "source": [
    "### 分析"
   ]
  },
  {
   "cell_type": "code",
   "execution_count": 53,
   "metadata": {},
   "outputs": [
    {
     "name": "stdout",
     "output_type": "stream",
     "text": [
      "Average Ratings for hotel 'ホテルC':\n",
      "  gender    rating\n",
      "0     女性  2.181818\n",
      "1     男性  2.610169\n"
     ]
    }
   ],
   "source": [
    "import sqlite3\n",
    "import pandas as pd\n",
    "\n",
    "class Database:\n",
    "    def __init__(self, amenities_db_path, review_db_path):\n",
    "        self.amenities_conn = sqlite3.connect(amenities_db_path)\n",
    "        self.review_conn = sqlite3.connect(review_db_path)\n",
    "    \n",
    "    def get_reviews(self, hotel_name):\n",
    "        query = \"\"\"\n",
    "        SELECT rating, gender\n",
    "        FROM review\n",
    "        WHERE hotel_name = ?\n",
    "        \"\"\"\n",
    "        return pd.read_sql_query(query, self.review_conn, params=(hotel_name,))\n",
    "\n",
    "def calculate_average_ratings(db, hotel_name):\n",
    "    reviews = db.get_reviews(hotel_name)\n",
    "    \n",
    "    if reviews.empty:\n",
    "        print(f\"No reviews found for hotel '{hotel_name}'.\")\n",
    "        return\n",
    "    \n",
    "    # rating列を数値型に変換\n",
    "    reviews['rating'] = pd.to_numeric(reviews['rating'], errors='coerce')\n",
    "    \n",
    "    # 男女別に評価スコアの平均値を算出\n",
    "    average_ratings = reviews.groupby('gender')['rating'].mean().reset_index()\n",
    "    \n",
    "    print(f\"Average Ratings for hotel '{hotel_name}':\")\n",
    "    print(average_ratings)\n",
    "\n",
    "# 使用例\n",
    "db = Database('/Users/gomadango/Lecture/dsprog/dsprog2/travel/amenities.sqlite', '/Users/gomadango/Lecture/dsprog/dsprog2/travel/review.sqlite')\n",
    "calculate_average_ratings(db, hotel_name='ホテルC')"
   ]
  }
 ],
 "metadata": {
  "kernelspec": {
   "display_name": ".venv",
   "language": "python",
   "name": "python3"
  },
  "language_info": {
   "codemirror_mode": {
    "name": "ipython",
    "version": 3
   },
   "file_extension": ".py",
   "mimetype": "text/x-python",
   "name": "python",
   "nbconvert_exporter": "python",
   "pygments_lexer": "ipython3",
   "version": "3.10.1"
  }
 },
 "nbformat": 4,
 "nbformat_minor": 2
}
